{
 "cells": [
  {
   "cell_type": "markdown",
   "id": "56b01bad",
   "metadata": {},
   "source": [
    "# Created by- Sambhav Srivastava\n",
    "### Naive Bayes Classifier"
   ]
  },
  {
   "cell_type": "markdown",
   "id": "9cd67f29",
   "metadata": {
    "papermill": {
     "duration": 0.01971,
     "end_time": "2023-06-06T15:33:41.743652",
     "exception": false,
     "start_time": "2023-06-06T15:33:41.723942",
     "status": "completed"
    },
    "tags": []
   },
   "source": [
    "**Import Dataset**"
   ]
  },
  {
   "cell_type": "code",
   "execution_count": 1,
   "id": "f83cc828",
   "metadata": {
    "_cell_guid": "b1076dfc-b9ad-4769-8c92-a6c4dae69d19",
    "_uuid": "8f2839f25d086af736a60e9eeb907d3b93b6e0e5",
    "execution": {
     "iopub.execute_input": "2023-06-06T15:33:41.769667Z",
     "iopub.status.busy": "2023-06-06T15:33:41.769107Z",
     "iopub.status.idle": "2023-06-06T15:33:43.719218Z",
     "shell.execute_reply": "2023-06-06T15:33:43.717457Z"
    },
    "papermill": {
     "duration": 1.968688,
     "end_time": "2023-06-06T15:33:43.723871",
     "exception": false,
     "start_time": "2023-06-06T15:33:41.755183",
     "status": "completed"
    },
    "tags": []
   },
   "outputs": [],
   "source": [
    "import numpy as np\n",
    "import pandas as pd\n",
    "import matplotlib.pyplot as plt\n",
    "import seaborn as sns"
   ]
  },
  {
   "cell_type": "code",
   "execution_count": 2,
   "id": "e10c48ed",
   "metadata": {
    "execution": {
     "iopub.execute_input": "2023-06-06T15:33:43.753973Z",
     "iopub.status.busy": "2023-06-06T15:33:43.752451Z",
     "iopub.status.idle": "2023-06-06T15:33:44.083363Z",
     "shell.execute_reply": "2023-06-06T15:33:44.081796Z"
    },
    "papermill": {
     "duration": 0.347028,
     "end_time": "2023-06-06T15:33:44.086484",
     "exception": false,
     "start_time": "2023-06-06T15:33:43.739456",
     "status": "completed"
    },
    "tags": []
   },
   "outputs": [
    {
     "ename": "FileNotFoundError",
     "evalue": "[Errno 2] No such file or directory: '../input/bank-marketing/bank-additional-full.csv'",
     "output_type": "error",
     "traceback": [
      "\u001b[1;31m---------------------------------------------------------------------------\u001b[0m",
      "\u001b[1;31mFileNotFoundError\u001b[0m                         Traceback (most recent call last)",
      "\u001b[1;32mc:\\Users\\Sambh\\Downloads\\naive-bayes.ipynb Cell 4\u001b[0m in \u001b[0;36m1\n\u001b[1;32m----> <a href='vscode-notebook-cell:/c%3A/Users/Sambh/Downloads/naive-bayes.ipynb#W2sZmlsZQ%3D%3D?line=0'>1</a>\u001b[0m dataset \u001b[39m=\u001b[39m pd\u001b[39m.\u001b[39;49mread_csv(\u001b[39m'\u001b[39;49m\u001b[39m../input/bank-marketing/bank-additional-full.csv\u001b[39;49m\u001b[39m'\u001b[39;49m, sep \u001b[39m=\u001b[39;49m \u001b[39m'\u001b[39;49m\u001b[39m;\u001b[39;49m\u001b[39m'\u001b[39;49m)\n",
      "File \u001b[1;32m~\\AppData\\Local\\Packages\\PythonSoftwareFoundation.Python.3.10_qbz5n2kfra8p0\\LocalCache\\local-packages\\Python310\\site-packages\\pandas\\util\\_decorators.py:211\u001b[0m, in \u001b[0;36mdeprecate_kwarg.<locals>._deprecate_kwarg.<locals>.wrapper\u001b[1;34m(*args, **kwargs)\u001b[0m\n\u001b[0;32m    209\u001b[0m     \u001b[39melse\u001b[39;00m:\n\u001b[0;32m    210\u001b[0m         kwargs[new_arg_name] \u001b[39m=\u001b[39m new_arg_value\n\u001b[1;32m--> 211\u001b[0m \u001b[39mreturn\u001b[39;00m func(\u001b[39m*\u001b[39margs, \u001b[39m*\u001b[39m\u001b[39m*\u001b[39mkwargs)\n",
      "File \u001b[1;32m~\\AppData\\Local\\Packages\\PythonSoftwareFoundation.Python.3.10_qbz5n2kfra8p0\\LocalCache\\local-packages\\Python310\\site-packages\\pandas\\util\\_decorators.py:331\u001b[0m, in \u001b[0;36mdeprecate_nonkeyword_arguments.<locals>.decorate.<locals>.wrapper\u001b[1;34m(*args, **kwargs)\u001b[0m\n\u001b[0;32m    325\u001b[0m \u001b[39mif\u001b[39;00m \u001b[39mlen\u001b[39m(args) \u001b[39m>\u001b[39m num_allow_args:\n\u001b[0;32m    326\u001b[0m     warnings\u001b[39m.\u001b[39mwarn(\n\u001b[0;32m    327\u001b[0m         msg\u001b[39m.\u001b[39mformat(arguments\u001b[39m=\u001b[39m_format_argument_list(allow_args)),\n\u001b[0;32m    328\u001b[0m         \u001b[39mFutureWarning\u001b[39;00m,\n\u001b[0;32m    329\u001b[0m         stacklevel\u001b[39m=\u001b[39mfind_stack_level(),\n\u001b[0;32m    330\u001b[0m     )\n\u001b[1;32m--> 331\u001b[0m \u001b[39mreturn\u001b[39;00m func(\u001b[39m*\u001b[39margs, \u001b[39m*\u001b[39m\u001b[39m*\u001b[39mkwargs)\n",
      "File \u001b[1;32m~\\AppData\\Local\\Packages\\PythonSoftwareFoundation.Python.3.10_qbz5n2kfra8p0\\LocalCache\\local-packages\\Python310\\site-packages\\pandas\\io\\parsers\\readers.py:950\u001b[0m, in \u001b[0;36mread_csv\u001b[1;34m(filepath_or_buffer, sep, delimiter, header, names, index_col, usecols, squeeze, prefix, mangle_dupe_cols, dtype, engine, converters, true_values, false_values, skipinitialspace, skiprows, skipfooter, nrows, na_values, keep_default_na, na_filter, verbose, skip_blank_lines, parse_dates, infer_datetime_format, keep_date_col, date_parser, dayfirst, cache_dates, iterator, chunksize, compression, thousands, decimal, lineterminator, quotechar, quoting, doublequote, escapechar, comment, encoding, encoding_errors, dialect, error_bad_lines, warn_bad_lines, on_bad_lines, delim_whitespace, low_memory, memory_map, float_precision, storage_options)\u001b[0m\n\u001b[0;32m    935\u001b[0m kwds_defaults \u001b[39m=\u001b[39m _refine_defaults_read(\n\u001b[0;32m    936\u001b[0m     dialect,\n\u001b[0;32m    937\u001b[0m     delimiter,\n\u001b[1;32m   (...)\u001b[0m\n\u001b[0;32m    946\u001b[0m     defaults\u001b[39m=\u001b[39m{\u001b[39m\"\u001b[39m\u001b[39mdelimiter\u001b[39m\u001b[39m\"\u001b[39m: \u001b[39m\"\u001b[39m\u001b[39m,\u001b[39m\u001b[39m\"\u001b[39m},\n\u001b[0;32m    947\u001b[0m )\n\u001b[0;32m    948\u001b[0m kwds\u001b[39m.\u001b[39mupdate(kwds_defaults)\n\u001b[1;32m--> 950\u001b[0m \u001b[39mreturn\u001b[39;00m _read(filepath_or_buffer, kwds)\n",
      "File \u001b[1;32m~\\AppData\\Local\\Packages\\PythonSoftwareFoundation.Python.3.10_qbz5n2kfra8p0\\LocalCache\\local-packages\\Python310\\site-packages\\pandas\\io\\parsers\\readers.py:605\u001b[0m, in \u001b[0;36m_read\u001b[1;34m(filepath_or_buffer, kwds)\u001b[0m\n\u001b[0;32m    602\u001b[0m _validate_names(kwds\u001b[39m.\u001b[39mget(\u001b[39m\"\u001b[39m\u001b[39mnames\u001b[39m\u001b[39m\"\u001b[39m, \u001b[39mNone\u001b[39;00m))\n\u001b[0;32m    604\u001b[0m \u001b[39m# Create the parser.\u001b[39;00m\n\u001b[1;32m--> 605\u001b[0m parser \u001b[39m=\u001b[39m TextFileReader(filepath_or_buffer, \u001b[39m*\u001b[39m\u001b[39m*\u001b[39mkwds)\n\u001b[0;32m    607\u001b[0m \u001b[39mif\u001b[39;00m chunksize \u001b[39mor\u001b[39;00m iterator:\n\u001b[0;32m    608\u001b[0m     \u001b[39mreturn\u001b[39;00m parser\n",
      "File \u001b[1;32m~\\AppData\\Local\\Packages\\PythonSoftwareFoundation.Python.3.10_qbz5n2kfra8p0\\LocalCache\\local-packages\\Python310\\site-packages\\pandas\\io\\parsers\\readers.py:1442\u001b[0m, in \u001b[0;36mTextFileReader.__init__\u001b[1;34m(self, f, engine, **kwds)\u001b[0m\n\u001b[0;32m   1439\u001b[0m     \u001b[39mself\u001b[39m\u001b[39m.\u001b[39moptions[\u001b[39m\"\u001b[39m\u001b[39mhas_index_names\u001b[39m\u001b[39m\"\u001b[39m] \u001b[39m=\u001b[39m kwds[\u001b[39m\"\u001b[39m\u001b[39mhas_index_names\u001b[39m\u001b[39m\"\u001b[39m]\n\u001b[0;32m   1441\u001b[0m \u001b[39mself\u001b[39m\u001b[39m.\u001b[39mhandles: IOHandles \u001b[39m|\u001b[39m \u001b[39mNone\u001b[39;00m \u001b[39m=\u001b[39m \u001b[39mNone\u001b[39;00m\n\u001b[1;32m-> 1442\u001b[0m \u001b[39mself\u001b[39m\u001b[39m.\u001b[39m_engine \u001b[39m=\u001b[39m \u001b[39mself\u001b[39;49m\u001b[39m.\u001b[39;49m_make_engine(f, \u001b[39mself\u001b[39;49m\u001b[39m.\u001b[39;49mengine)\n",
      "File \u001b[1;32m~\\AppData\\Local\\Packages\\PythonSoftwareFoundation.Python.3.10_qbz5n2kfra8p0\\LocalCache\\local-packages\\Python310\\site-packages\\pandas\\io\\parsers\\readers.py:1735\u001b[0m, in \u001b[0;36mTextFileReader._make_engine\u001b[1;34m(self, f, engine)\u001b[0m\n\u001b[0;32m   1733\u001b[0m     \u001b[39mif\u001b[39;00m \u001b[39m\"\u001b[39m\u001b[39mb\u001b[39m\u001b[39m\"\u001b[39m \u001b[39mnot\u001b[39;00m \u001b[39min\u001b[39;00m mode:\n\u001b[0;32m   1734\u001b[0m         mode \u001b[39m+\u001b[39m\u001b[39m=\u001b[39m \u001b[39m\"\u001b[39m\u001b[39mb\u001b[39m\u001b[39m\"\u001b[39m\n\u001b[1;32m-> 1735\u001b[0m \u001b[39mself\u001b[39m\u001b[39m.\u001b[39mhandles \u001b[39m=\u001b[39m get_handle(\n\u001b[0;32m   1736\u001b[0m     f,\n\u001b[0;32m   1737\u001b[0m     mode,\n\u001b[0;32m   1738\u001b[0m     encoding\u001b[39m=\u001b[39;49m\u001b[39mself\u001b[39;49m\u001b[39m.\u001b[39;49moptions\u001b[39m.\u001b[39;49mget(\u001b[39m\"\u001b[39;49m\u001b[39mencoding\u001b[39;49m\u001b[39m\"\u001b[39;49m, \u001b[39mNone\u001b[39;49;00m),\n\u001b[0;32m   1739\u001b[0m     compression\u001b[39m=\u001b[39;49m\u001b[39mself\u001b[39;49m\u001b[39m.\u001b[39;49moptions\u001b[39m.\u001b[39;49mget(\u001b[39m\"\u001b[39;49m\u001b[39mcompression\u001b[39;49m\u001b[39m\"\u001b[39;49m, \u001b[39mNone\u001b[39;49;00m),\n\u001b[0;32m   1740\u001b[0m     memory_map\u001b[39m=\u001b[39;49m\u001b[39mself\u001b[39;49m\u001b[39m.\u001b[39;49moptions\u001b[39m.\u001b[39;49mget(\u001b[39m\"\u001b[39;49m\u001b[39mmemory_map\u001b[39;49m\u001b[39m\"\u001b[39;49m, \u001b[39mFalse\u001b[39;49;00m),\n\u001b[0;32m   1741\u001b[0m     is_text\u001b[39m=\u001b[39;49mis_text,\n\u001b[0;32m   1742\u001b[0m     errors\u001b[39m=\u001b[39;49m\u001b[39mself\u001b[39;49m\u001b[39m.\u001b[39;49moptions\u001b[39m.\u001b[39;49mget(\u001b[39m\"\u001b[39;49m\u001b[39mencoding_errors\u001b[39;49m\u001b[39m\"\u001b[39;49m, \u001b[39m\"\u001b[39;49m\u001b[39mstrict\u001b[39;49m\u001b[39m\"\u001b[39;49m),\n\u001b[0;32m   1743\u001b[0m     storage_options\u001b[39m=\u001b[39;49m\u001b[39mself\u001b[39;49m\u001b[39m.\u001b[39;49moptions\u001b[39m.\u001b[39;49mget(\u001b[39m\"\u001b[39;49m\u001b[39mstorage_options\u001b[39;49m\u001b[39m\"\u001b[39;49m, \u001b[39mNone\u001b[39;49;00m),\n\u001b[0;32m   1744\u001b[0m )\n\u001b[0;32m   1745\u001b[0m \u001b[39massert\u001b[39;00m \u001b[39mself\u001b[39m\u001b[39m.\u001b[39mhandles \u001b[39mis\u001b[39;00m \u001b[39mnot\u001b[39;00m \u001b[39mNone\u001b[39;00m\n\u001b[0;32m   1746\u001b[0m f \u001b[39m=\u001b[39m \u001b[39mself\u001b[39m\u001b[39m.\u001b[39mhandles\u001b[39m.\u001b[39mhandle\n",
      "File \u001b[1;32m~\\AppData\\Local\\Packages\\PythonSoftwareFoundation.Python.3.10_qbz5n2kfra8p0\\LocalCache\\local-packages\\Python310\\site-packages\\pandas\\io\\common.py:856\u001b[0m, in \u001b[0;36mget_handle\u001b[1;34m(path_or_buf, mode, encoding, compression, memory_map, is_text, errors, storage_options)\u001b[0m\n\u001b[0;32m    851\u001b[0m \u001b[39melif\u001b[39;00m \u001b[39misinstance\u001b[39m(handle, \u001b[39mstr\u001b[39m):\n\u001b[0;32m    852\u001b[0m     \u001b[39m# Check whether the filename is to be opened in binary mode.\u001b[39;00m\n\u001b[0;32m    853\u001b[0m     \u001b[39m# Binary mode does not support 'encoding' and 'newline'.\u001b[39;00m\n\u001b[0;32m    854\u001b[0m     \u001b[39mif\u001b[39;00m ioargs\u001b[39m.\u001b[39mencoding \u001b[39mand\u001b[39;00m \u001b[39m\"\u001b[39m\u001b[39mb\u001b[39m\u001b[39m\"\u001b[39m \u001b[39mnot\u001b[39;00m \u001b[39min\u001b[39;00m ioargs\u001b[39m.\u001b[39mmode:\n\u001b[0;32m    855\u001b[0m         \u001b[39m# Encoding\u001b[39;00m\n\u001b[1;32m--> 856\u001b[0m         handle \u001b[39m=\u001b[39m \u001b[39mopen\u001b[39;49m(\n\u001b[0;32m    857\u001b[0m             handle,\n\u001b[0;32m    858\u001b[0m             ioargs\u001b[39m.\u001b[39;49mmode,\n\u001b[0;32m    859\u001b[0m             encoding\u001b[39m=\u001b[39;49mioargs\u001b[39m.\u001b[39;49mencoding,\n\u001b[0;32m    860\u001b[0m             errors\u001b[39m=\u001b[39;49merrors,\n\u001b[0;32m    861\u001b[0m             newline\u001b[39m=\u001b[39;49m\u001b[39m\"\u001b[39;49m\u001b[39m\"\u001b[39;49m,\n\u001b[0;32m    862\u001b[0m         )\n\u001b[0;32m    863\u001b[0m     \u001b[39melse\u001b[39;00m:\n\u001b[0;32m    864\u001b[0m         \u001b[39m# Binary mode\u001b[39;00m\n\u001b[0;32m    865\u001b[0m         handle \u001b[39m=\u001b[39m \u001b[39mopen\u001b[39m(handle, ioargs\u001b[39m.\u001b[39mmode)\n",
      "\u001b[1;31mFileNotFoundError\u001b[0m: [Errno 2] No such file or directory: '../input/bank-marketing/bank-additional-full.csv'"
     ]
    }
   ],
   "source": [
    "dataset = pd.read_csv('../input/bank-marketing/bank-additional-full.csv', sep = ';')"
   ]
  },
  {
   "cell_type": "code",
   "execution_count": null,
   "id": "b8c8b364",
   "metadata": {
    "execution": {
     "iopub.execute_input": "2023-06-06T15:33:44.113358Z",
     "iopub.status.busy": "2023-06-06T15:33:44.112920Z",
     "iopub.status.idle": "2023-06-06T15:33:44.300200Z",
     "shell.execute_reply": "2023-06-06T15:33:44.298376Z"
    },
    "papermill": {
     "duration": 0.204643,
     "end_time": "2023-06-06T15:33:44.303350",
     "exception": false,
     "start_time": "2023-06-06T15:33:44.098707",
     "status": "completed"
    },
    "tags": []
   },
   "outputs": [
    {
     "name": "stdout",
     "output_type": "stream",
     "text": [
      "<class 'pandas.core.frame.DataFrame'>\n",
      "RangeIndex: 41188 entries, 0 to 41187\n",
      "Data columns (total 21 columns):\n",
      " #   Column          Non-Null Count  Dtype  \n",
      "---  ------          --------------  -----  \n",
      " 0   age             41188 non-null  int64  \n",
      " 1   job             41188 non-null  object \n",
      " 2   marital         41188 non-null  object \n",
      " 3   education       41188 non-null  object \n",
      " 4   default         41188 non-null  object \n",
      " 5   housing         41188 non-null  object \n",
      " 6   loan            41188 non-null  object \n",
      " 7   contact         41188 non-null  object \n",
      " 8   month           41188 non-null  object \n",
      " 9   day_of_week     41188 non-null  object \n",
      " 10  duration        41188 non-null  int64  \n",
      " 11  campaign        41188 non-null  int64  \n",
      " 12  pdays           41188 non-null  int64  \n",
      " 13  previous        41188 non-null  int64  \n",
      " 14  poutcome        41188 non-null  object \n",
      " 15  emp.var.rate    41188 non-null  float64\n",
      " 16  cons.price.idx  41188 non-null  float64\n",
      " 17  cons.conf.idx   41188 non-null  float64\n",
      " 18  euribor3m       41188 non-null  float64\n",
      " 19  nr.employed     41188 non-null  float64\n",
      " 20  y               41188 non-null  object \n",
      "dtypes: float64(5), int64(5), object(11)\n",
      "memory usage: 6.6+ MB\n",
      "None\n"
     ]
    }
   ],
   "source": [
    "print(dataset.info())"
   ]
  },
  {
   "cell_type": "markdown",
   "id": "3749bf3e",
   "metadata": {
    "papermill": {
     "duration": 0.011666,
     "end_time": "2023-06-06T15:33:44.327672",
     "exception": false,
     "start_time": "2023-06-06T15:33:44.316006",
     "status": "completed"
    },
    "tags": []
   },
   "source": [
    "**Cleaning Dataset**"
   ]
  },
  {
   "cell_type": "code",
   "execution_count": null,
   "id": "d13ee270",
   "metadata": {
    "execution": {
     "iopub.execute_input": "2023-06-06T15:33:44.379508Z",
     "iopub.status.busy": "2023-06-06T15:33:44.377894Z",
     "iopub.status.idle": "2023-06-06T15:33:44.392166Z",
     "shell.execute_reply": "2023-06-06T15:33:44.391185Z"
    },
    "papermill": {
     "duration": 0.030984,
     "end_time": "2023-06-06T15:33:44.395197",
     "exception": false,
     "start_time": "2023-06-06T15:33:44.364213",
     "status": "completed"
    },
    "tags": []
   },
   "outputs": [],
   "source": [
    "dataset = dataset.rename(columns={'y': 'subscribed'})"
   ]
  },
  {
   "cell_type": "code",
   "execution_count": null,
   "id": "f8695f79",
   "metadata": {
    "execution": {
     "iopub.execute_input": "2023-06-06T15:33:44.446169Z",
     "iopub.status.busy": "2023-06-06T15:33:44.444653Z",
     "iopub.status.idle": "2023-06-06T15:33:44.518533Z",
     "shell.execute_reply": "2023-06-06T15:33:44.516571Z"
    },
    "papermill": {
     "duration": 0.091759,
     "end_time": "2023-06-06T15:33:44.521721",
     "exception": false,
     "start_time": "2023-06-06T15:33:44.429962",
     "status": "completed"
    },
    "tags": []
   },
   "outputs": [
    {
     "name": "stdout",
     "output_type": "stream",
     "text": [
      "12\n"
     ]
    }
   ],
   "source": [
    "print(dataset.duplicated().sum())"
   ]
  },
  {
   "cell_type": "code",
   "execution_count": null,
   "id": "af811dbc",
   "metadata": {
    "execution": {
     "iopub.execute_input": "2023-06-06T15:33:44.601347Z",
     "iopub.status.busy": "2023-06-06T15:33:44.600916Z",
     "iopub.status.idle": "2023-06-06T15:33:44.682463Z",
     "shell.execute_reply": "2023-06-06T15:33:44.681129Z"
    },
    "papermill": {
     "duration": 0.099434,
     "end_time": "2023-06-06T15:33:44.685773",
     "exception": false,
     "start_time": "2023-06-06T15:33:44.586339",
     "status": "completed"
    },
    "tags": []
   },
   "outputs": [
    {
     "name": "stdout",
     "output_type": "stream",
     "text": [
      "       age          job   marital            education  default housing loan\n",
      "1265    39  blue-collar   married             basic.6y       no      no   no\n",
      "1266    39  blue-collar   married             basic.6y       no      no   no\n",
      "12260   36      retired   married              unknown       no      no   no\n",
      "12261   36      retired   married              unknown       no      no   no\n",
      "14155   27   technician    single  professional.course       no      no   no\n",
      "14234   27   technician    single  professional.course       no      no   no\n",
      "16819   47   technician  divorced          high.school       no     yes   no\n",
      "16956   47   technician  divorced          high.school       no     yes   no\n",
      "18464   32   technician    single  professional.course       no     yes   no\n",
      "18465   32   technician    single  professional.course       no     yes   no\n",
      "20072   55     services   married          high.school  unknown      no   no\n",
      "20216   55     services   married          high.school  unknown      no   no\n",
      "20531   41   technician   married  professional.course       no     yes   no\n",
      "20534   41   technician   married  professional.course       no     yes   no\n",
      "25183   39       admin.   married    university.degree       no      no   no\n",
      "25217   39       admin.   married    university.degree       no      no   no\n",
      "28476   24     services    single          high.school       no     yes   no\n",
      "28477   24     services    single          high.school       no     yes   no\n",
      "32505   35       admin.   married    university.degree       no     yes   no\n",
      "32516   35       admin.   married    university.degree       no     yes   no\n",
      "36950   45       admin.   married    university.degree       no      no   no\n",
      "36951   45       admin.   married    university.degree       no      no   no\n",
      "38255   71      retired    single    university.degree       no      no   no\n",
      "38281   71      retired    single    university.degree       no      no   no\n"
     ]
    }
   ],
   "source": [
    "print(dataset[dataset.duplicated(keep=False)].iloc[:,:7])"
   ]
  },
  {
   "cell_type": "code",
   "execution_count": null,
   "id": "c6c0e174",
   "metadata": {
    "execution": {
     "iopub.execute_input": "2023-06-06T15:33:44.738861Z",
     "iopub.status.busy": "2023-06-06T15:33:44.738163Z",
     "iopub.status.idle": "2023-06-06T15:33:44.812494Z",
     "shell.execute_reply": "2023-06-06T15:33:44.811067Z"
    },
    "papermill": {
     "duration": 0.091261,
     "end_time": "2023-06-06T15:33:44.815763",
     "exception": false,
     "start_time": "2023-06-06T15:33:44.724502",
     "status": "completed"
    },
    "tags": []
   },
   "outputs": [],
   "source": [
    "dataset = dataset.drop_duplicates()"
   ]
  },
  {
   "cell_type": "code",
   "execution_count": null,
   "id": "42f32012",
   "metadata": {
    "execution": {
     "iopub.execute_input": "2023-06-06T15:33:44.842401Z",
     "iopub.status.busy": "2023-06-06T15:33:44.841983Z",
     "iopub.status.idle": "2023-06-06T15:33:44.849121Z",
     "shell.execute_reply": "2023-06-06T15:33:44.848103Z"
    },
    "papermill": {
     "duration": 0.025936,
     "end_time": "2023-06-06T15:33:44.853935",
     "exception": false,
     "start_time": "2023-06-06T15:33:44.827999",
     "status": "completed"
    },
    "tags": []
   },
   "outputs": [
    {
     "name": "stdout",
     "output_type": "stream",
     "text": [
      "(41176, 21)\n"
     ]
    }
   ],
   "source": [
    "print(dataset.shape)"
   ]
  },
  {
   "cell_type": "markdown",
   "id": "90cecb8a",
   "metadata": {
    "papermill": {
     "duration": 0.012136,
     "end_time": "2023-06-06T15:33:44.878415",
     "exception": false,
     "start_time": "2023-06-06T15:33:44.866279",
     "status": "completed"
    },
    "tags": []
   },
   "source": [
    "Check missing values"
   ]
  },
  {
   "cell_type": "code",
   "execution_count": null,
   "id": "fb7aa3d2",
   "metadata": {
    "execution": {
     "iopub.execute_input": "2023-06-06T15:33:44.908719Z",
     "iopub.status.busy": "2023-06-06T15:33:44.907940Z",
     "iopub.status.idle": "2023-06-06T15:33:45.068890Z",
     "shell.execute_reply": "2023-06-06T15:33:45.066868Z"
    },
    "papermill": {
     "duration": 0.179781,
     "end_time": "2023-06-06T15:33:45.072703",
     "exception": false,
     "start_time": "2023-06-06T15:33:44.892922",
     "status": "completed"
    },
    "tags": []
   },
   "outputs": [
    {
     "name": "stdout",
     "output_type": "stream",
     "text": [
      "\u001b[1mNULL VALUES\u001b[0m\n",
      "False\n"
     ]
    }
   ],
   "source": [
    "print('\\033[1mNULL VALUES\\033[0m\\n'+ str(dataset.isnull().values.any()))"
   ]
  },
  {
   "cell_type": "code",
   "execution_count": null,
   "id": "9063110a",
   "metadata": {
    "execution": {
     "iopub.execute_input": "2023-06-06T15:33:45.100727Z",
     "iopub.status.busy": "2023-06-06T15:33:45.100256Z",
     "iopub.status.idle": "2023-06-06T15:33:45.511098Z",
     "shell.execute_reply": "2023-06-06T15:33:45.509612Z"
    },
    "papermill": {
     "duration": 0.429437,
     "end_time": "2023-06-06T15:33:45.514940",
     "exception": false,
     "start_time": "2023-06-06T15:33:45.085503",
     "status": "completed"
    },
    "tags": []
   },
   "outputs": [
    {
     "name": "stdout",
     "output_type": "stream",
     "text": [
      "               no   yes\n",
      "subscribed  36537  4639\n"
     ]
    },
    {
     "data": {
      "image/png": "[encoded data removed]",
      "text/plain": [
       "<Figure size 640x480 with 1 Axes>"
      ]
     },
     "metadata": {},
     "output_type": "display_data"
    }
   ],
   "source": [
    "Subscribed = pd.DataFrame(dataset['subscribed'].value_counts())\n",
    "print(Subscribed.T)\n",
    "pd.DataFrame(dataset['subscribed'].value_counts()).plot(kind='bar', color='lightgreen')\n",
    "plt.show()"
   ]
  },
  {
   "cell_type": "markdown",
   "id": "5261dee7",
   "metadata": {
    "papermill": {
     "duration": 0.012845,
     "end_time": "2023-06-06T15:33:45.541918",
     "exception": false,
     "start_time": "2023-06-06T15:33:45.529073",
     "status": "completed"
    },
    "tags": []
   },
   "source": [
    "**Data Preparation**"
   ]
  },
  {
   "cell_type": "code",
   "execution_count": null,
   "id": "d89b7521",
   "metadata": {
    "execution": {
     "iopub.execute_input": "2023-06-06T15:33:45.599622Z",
     "iopub.status.busy": "2023-06-06T15:33:45.598025Z",
     "iopub.status.idle": "2023-06-06T15:33:45.620883Z",
     "shell.execute_reply": "2023-06-06T15:33:45.618622Z"
    },
    "papermill": {
     "duration": 0.042253,
     "end_time": "2023-06-06T15:33:45.624046",
     "exception": false,
     "start_time": "2023-06-06T15:33:45.581793",
     "status": "completed"
    },
    "tags": []
   },
   "outputs": [],
   "source": [
    "bins= [0,10,20,30,40,50,60,70,80,90,100]\n",
    "labels = [0,1,2,3,4,5,6,7,8,9]\n",
    "dataset.insert(1, 'agegroup', pd.cut(dataset['age'], bins=bins, labels=labels, right=False))\n",
    "dataset = dataset.drop('age', axis=1)"
   ]
  },
  {
   "cell_type": "code",
   "execution_count": null,
   "id": "c17a42dc",
   "metadata": {
    "execution": {
     "iopub.execute_input": "2023-06-06T15:33:45.675324Z",
     "iopub.status.busy": "2023-06-06T15:33:45.674783Z",
     "iopub.status.idle": "2023-06-06T15:33:45.685137Z",
     "shell.execute_reply": "2023-06-06T15:33:45.683490Z"
    },
    "papermill": {
     "duration": 0.026901,
     "end_time": "2023-06-06T15:33:45.688185",
     "exception": false,
     "start_time": "2023-06-06T15:33:45.661284",
     "status": "completed"
    },
    "tags": []
   },
   "outputs": [],
   "source": [
    "categorical_columns = dataset.select_dtypes(include='object').columns"
   ]
  },
  {
   "cell_type": "code",
   "execution_count": null,
   "id": "dec4c18f",
   "metadata": {
    "execution": {
     "iopub.execute_input": "2023-06-06T15:33:45.718750Z",
     "iopub.status.busy": "2023-06-06T15:33:45.717716Z",
     "iopub.status.idle": "2023-06-06T15:33:46.114886Z",
     "shell.execute_reply": "2023-06-06T15:33:46.112952Z"
    },
    "papermill": {
     "duration": 0.416424,
     "end_time": "2023-06-06T15:33:46.117965",
     "exception": false,
     "start_time": "2023-06-06T15:33:45.701541",
     "status": "completed"
    },
    "tags": []
   },
   "outputs": [],
   "source": [
    "from sklearn.preprocessing import LabelEncoder\n",
    "le = LabelEncoder()\n",
    "for i in categorical_columns:\n",
    "    dataset[i] = le.fit_transform(dataset[i]) "
   ]
  },
  {
   "cell_type": "code",
   "execution_count": null,
   "id": "b03eb57d",
   "metadata": {
    "execution": {
     "iopub.execute_input": "2023-06-06T15:33:46.145081Z",
     "iopub.status.busy": "2023-06-06T15:33:46.144538Z",
     "iopub.status.idle": "2023-06-06T15:33:46.169350Z",
     "shell.execute_reply": "2023-06-06T15:33:46.167868Z"
    },
    "papermill": {
     "duration": 0.041587,
     "end_time": "2023-06-06T15:33:46.172177",
     "exception": false,
     "start_time": "2023-06-06T15:33:46.130590",
     "status": "completed"
    },
    "tags": []
   },
   "outputs": [
    {
     "name": "stdout",
     "output_type": "stream",
     "text": [
      "  agegroup  job  marital  education  default  housing  loan  contact  month  \\\n",
      "0        5    3        1          0        0        0     0        1      6   \n",
      "1        5    7        1          3        1        0     0        1      6   \n",
      "2        3    7        1          3        0        2     0        1      6   \n",
      "3        4    0        1          1        0        0     0        1      6   \n",
      "4        5    7        1          3        0        0     2        1      6   \n",
      "\n",
      "   day_of_week  ...  campaign  pdays  previous  poutcome  emp.var.rate  \\\n",
      "0            1  ...         1    999         0         1           1.1   \n",
      "1            1  ...         1    999         0         1           1.1   \n",
      "2            1  ...         1    999         0         1           1.1   \n",
      "3            1  ...         1    999         0         1           1.1   \n",
      "4            1  ...         1    999         0         1           1.1   \n",
      "\n",
      "   cons.price.idx  cons.conf.idx  euribor3m  nr.employed  subscribed  \n",
      "0          93.994          -36.4      4.857       5191.0           0  \n",
      "1          93.994          -36.4      4.857       5191.0           0  \n",
      "2          93.994          -36.4      4.857       5191.0           0  \n",
      "3          93.994          -36.4      4.857       5191.0           0  \n",
      "4          93.994          -36.4      4.857       5191.0           0  \n",
      "\n",
      "[5 rows x 21 columns]\n"
     ]
    }
   ],
   "source": [
    "print(dataset.head())"
   ]
  },
  {
   "cell_type": "code",
   "execution_count": null,
   "id": "53916143",
   "metadata": {
    "execution": {
     "iopub.execute_input": "2023-06-06T15:33:46.225878Z",
     "iopub.status.busy": "2023-06-06T15:33:46.225263Z",
     "iopub.status.idle": "2023-06-06T15:33:46.255115Z",
     "shell.execute_reply": "2023-06-06T15:33:46.253708Z"
    },
    "papermill": {
     "duration": 0.04667,
     "end_time": "2023-06-06T15:33:46.258156",
     "exception": false,
     "start_time": "2023-06-06T15:33:46.211486",
     "status": "completed"
    },
    "tags": []
   },
   "outputs": [],
   "source": [
    "X_train = dataset.iloc[:, :-1].values.astype('float')\n",
    "y_train = dataset['subscribed'].values"
   ]
  },
  {
   "cell_type": "code",
   "execution_count": null,
   "id": "d212bb27",
   "metadata": {
    "execution": {
     "iopub.execute_input": "2023-06-06T15:33:46.315465Z",
     "iopub.status.busy": "2023-06-06T15:33:46.314380Z",
     "iopub.status.idle": "2023-06-06T15:33:46.335388Z",
     "shell.execute_reply": "2023-06-06T15:33:46.333900Z"
    },
    "papermill": {
     "duration": 0.039795,
     "end_time": "2023-06-06T15:33:46.339286",
     "exception": false,
     "start_time": "2023-06-06T15:33:46.299491",
     "status": "completed"
    },
    "tags": []
   },
   "outputs": [],
   "source": [
    "from sklearn.preprocessing import StandardScaler\n",
    "X_train = pd.DataFrame(StandardScaler().fit_transform(X_train))"
   ]
  },
  {
   "cell_type": "code",
   "execution_count": null,
   "id": "c3cc0573",
   "metadata": {
    "execution": {
     "iopub.execute_input": "2023-06-06T15:33:46.395420Z",
     "iopub.status.busy": "2023-06-06T15:33:46.394935Z",
     "iopub.status.idle": "2023-06-06T15:33:46.400673Z",
     "shell.execute_reply": "2023-06-06T15:33:46.399102Z"
    },
    "papermill": {
     "duration": 0.02461,
     "end_time": "2023-06-06T15:33:46.403548",
     "exception": false,
     "start_time": "2023-06-06T15:33:46.378938",
     "status": "completed"
    },
    "tags": []
   },
   "outputs": [],
   "source": [
    "X_train[y_train == 1].plot(kind='density', ind=100, legend=False)\n",
    "plt.title('Subscribed Likelihood Plot after Standardization')\n",
    "plt.show()"
   ]
  },
  {
   "cell_type": "code",
   "execution_count": null,
   "id": "fa29bddc",
   "metadata": {
    "execution": {
     "iopub.execute_input": "2023-06-06T15:33:46.432747Z",
     "iopub.status.busy": "2023-06-06T15:33:46.432272Z",
     "iopub.status.idle": "2023-06-06T15:33:46.439164Z",
     "shell.execute_reply": "2023-06-06T15:33:46.437364Z"
    },
    "papermill": {
     "duration": 0.025861,
     "end_time": "2023-06-06T15:33:46.442598",
     "exception": false,
     "start_time": "2023-06-06T15:33:46.416737",
     "status": "completed"
    },
    "tags": []
   },
   "outputs": [],
   "source": [
    "X_train[y_train == 0].plot(kind='density', ind=100, legend=False)\n",
    "plt.title('Not Subscribed Likelihood Plot after Standardization')\n",
    "plt.show()"
   ]
  },
  {
   "cell_type": "code",
   "execution_count": null,
   "id": "78dfdfd5",
   "metadata": {
    "execution": {
     "iopub.execute_input": "2023-06-06T15:33:46.470329Z",
     "iopub.status.busy": "2023-06-06T15:33:46.469864Z",
     "iopub.status.idle": "2023-06-06T15:33:46.476146Z",
     "shell.execute_reply": "2023-06-06T15:33:46.474572Z"
    },
    "papermill": {
     "duration": 0.023566,
     "end_time": "2023-06-06T15:33:46.478916",
     "exception": false,
     "start_time": "2023-06-06T15:33:46.455350",
     "status": "completed"
    },
    "tags": []
   },
   "outputs": [],
   "source": [
    "plt.figure(figsize=(12,10))\n",
    "sns.heatmap(dataset.corr(method='spearman', numeric_only=True), cbar=True, cmap=\"RdBu_r\")\n",
    "plt.title(\"Correlation Matrix\", fontsize=16)\n",
    "plt.show()"
   ]
  },
  {
   "cell_type": "code",
   "execution_count": null,
   "id": "c3599462",
   "metadata": {
    "execution": {
     "iopub.execute_input": "2023-06-06T15:33:46.507229Z",
     "iopub.status.busy": "2023-06-06T15:33:46.506761Z",
     "iopub.status.idle": "2023-06-06T15:33:46.641946Z",
     "shell.execute_reply": "2023-06-06T15:33:46.640583Z"
    },
    "papermill": {
     "duration": 0.153274,
     "end_time": "2023-06-06T15:33:46.645494",
     "exception": false,
     "start_time": "2023-06-06T15:33:46.492220",
     "status": "completed"
    },
    "tags": []
   },
   "outputs": [],
   "source": [
    "correlation = X_train.corr(method='spearman').abs()\n",
    "upper = correlation.where(np.triu(np.ones(correlation.shape), k=1).astype(bool))\n",
    "to_drop = [column for column in upper.columns if any(upper[column] > 0.40)]\n",
    "X_train.drop(X_train[to_drop], axis=1, inplace=True)"
   ]
  },
  {
   "cell_type": "code",
   "execution_count": null,
   "id": "3f243e05",
   "metadata": {
    "execution": {
     "iopub.execute_input": "2023-06-06T15:33:46.675417Z",
     "iopub.status.busy": "2023-06-06T15:33:46.674892Z",
     "iopub.status.idle": "2023-06-06T15:33:46.683748Z",
     "shell.execute_reply": "2023-06-06T15:33:46.681322Z"
    },
    "papermill": {
     "duration": 0.028329,
     "end_time": "2023-06-06T15:33:46.687737",
     "exception": false,
     "start_time": "2023-06-06T15:33:46.659408",
     "status": "completed"
    },
    "tags": []
   },
   "outputs": [
    {
     "name": "stdout",
     "output_type": "stream",
     "text": [
      "(41176, 13)\n"
     ]
    }
   ],
   "source": [
    "print(X_train.shape)"
   ]
  },
  {
   "cell_type": "code",
   "execution_count": null,
   "id": "f74f16c7",
   "metadata": {
    "execution": {
     "iopub.execute_input": "2023-06-06T15:33:46.716732Z",
     "iopub.status.busy": "2023-06-06T15:33:46.716235Z",
     "iopub.status.idle": "2023-06-06T15:33:46.886669Z",
     "shell.execute_reply": "2023-06-06T15:33:46.885063Z"
    },
    "papermill": {
     "duration": 0.188774,
     "end_time": "2023-06-06T15:33:46.890204",
     "exception": false,
     "start_time": "2023-06-06T15:33:46.701430",
     "status": "completed"
    },
    "tags": []
   },
   "outputs": [],
   "source": [
    "from sklearn.model_selection import train_test_split\n",
    "X_train, X_test, y_train, y_test = train_test_split(X_train, y_train, test_size = 0.25, random_state=42)"
   ]
  },
  {
   "cell_type": "code",
   "execution_count": null,
   "id": "c2027b9a",
   "metadata": {
    "execution": {
     "iopub.execute_input": "2023-06-06T15:33:46.919996Z",
     "iopub.status.busy": "2023-06-06T15:33:46.919543Z",
     "iopub.status.idle": "2023-06-06T15:33:46.960365Z",
     "shell.execute_reply": "2023-06-06T15:33:46.959199Z"
    },
    "papermill": {
     "duration": 0.058713,
     "end_time": "2023-06-06T15:33:46.963337",
     "exception": false,
     "start_time": "2023-06-06T15:33:46.904624",
     "status": "completed"
    },
    "tags": []
   },
   "outputs": [],
   "source": [
    "from sklearn.naive_bayes import GaussianNB\n",
    "gb = GaussianNB()\n",
    "gb.fit(X_train, y_train)\n",
    "pred = gb.predict(pd.DataFrame(X_test))"
   ]
  },
  {
   "cell_type": "code",
   "execution_count": null,
   "id": "da63379f",
   "metadata": {
    "execution": {
     "iopub.execute_input": "2023-06-06T15:33:46.992992Z",
     "iopub.status.busy": "2023-06-06T15:33:46.991744Z",
     "iopub.status.idle": "2023-06-06T15:33:47.388351Z",
     "shell.execute_reply": "2023-06-06T15:33:47.387060Z"
    },
    "papermill": {
     "duration": 0.414801,
     "end_time": "2023-06-06T15:33:47.391354",
     "exception": false,
     "start_time": "2023-06-06T15:33:46.976553",
     "status": "completed"
    },
    "tags": []
   },
   "outputs": [
    {
     "name": "stdout",
     "output_type": "stream",
     "text": [
      "0.8738079987876639\n"
     ]
    },
    {
     "data": {
      "image/png": "[encoded data removed]",
      "text/plain": [
       "<Figure size 640x480 with 1 Axes>"
      ]
     },
     "metadata": {},
     "output_type": "display_data"
    }
   ],
   "source": [
    "from sklearn.metrics import roc_curve, auc\n",
    "gbprob = gb.predict_proba(X_train)[:,1]\n",
    "fpr, tpr, thr = roc_curve(y_train, gbprob)\n",
    "plt.plot(fpr, tpr)\n",
    "plt.xlabel('False Positive Rate')\n",
    "plt.ylabel('True Positive Rate')\n",
    "plt.title('Receiver Operating Characteristic Plot')\n",
    "print(auc(fpr, tpr))"
   ]
  },
  {
   "cell_type": "code",
   "execution_count": null,
   "id": "57cb697c",
   "metadata": {
    "execution": {
     "iopub.execute_input": "2023-06-06T15:33:47.420933Z",
     "iopub.status.busy": "2023-06-06T15:33:47.420427Z",
     "iopub.status.idle": "2023-06-06T15:33:47.456121Z",
     "shell.execute_reply": "2023-06-06T15:33:47.454554Z"
    },
    "papermill": {
     "duration": 0.053542,
     "end_time": "2023-06-06T15:33:47.458979",
     "exception": false,
     "start_time": "2023-06-06T15:33:47.405437",
     "status": "completed"
    },
    "tags": []
   },
   "outputs": [
    {
     "name": "stdout",
     "output_type": "stream",
     "text": [
      "Accuracy score of Gaussian Naive Bayes: 0.8985816980765494\n",
      "Confusion Matrix:\n",
      " [[8712  382]\n",
      " [ 662  538]]\n",
      "Classification Report:\n",
      "               precision    recall  f1-score   support\n",
      "\n",
      "           0       0.93      0.96      0.94      9094\n",
      "           1       0.58      0.45      0.51      1200\n",
      "\n",
      "    accuracy                           0.90     10294\n",
      "   macro avg       0.76      0.70      0.73     10294\n",
      "weighted avg       0.89      0.90      0.89     10294\n",
      "\n"
     ]
    }
   ],
   "source": [
    "from sklearn.metrics import confusion_matrix, accuracy_score, classification_report\n",
    "print('Accuracy score of Gaussian Naive Bayes:', accuracy_score(y_test, pred))\n",
    "print('Confusion Matrix:\\n', confusion_matrix(y_test, pred))\n",
    "print('Classification Report:\\n', classification_report(y_test, pred))"
   ]
  }
 ],
 "metadata": {
  "kernelspec": {
   "display_name": "Python 3",
   "language": "python",
   "name": "python3"
  },
  "language_info": {
   "codemirror_mode": {
    "name": "ipython",
    "version": 3
   },
   "file_extension": ".py",
   "mimetype": "text/x-python",
   "name": "python",
   "nbconvert_exporter": "python",
   "pygments_lexer": "ipython3",
   "version": "3.10.11"
  },
  "papermill": {
   "default_parameters": {},
   "duration": 23.523922,
   "end_time": "2023-06-06T15:33:48.799135",
   "environment_variables": {},
   "exception": null,
   "input_path": "__notebook__.ipynb",
   "output_path": "__notebook__.ipynb",
   "parameters": {},
   "start_time": "2023-06-06T15:33:25.275213",
   "version": "2.4.0"
  }
 },
 "nbformat": 4,
 "nbformat_minor": 5
}
